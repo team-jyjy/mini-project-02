{
 "cells": [
  {
   "cell_type": "markdown",
   "id": "001fcaa5",
   "metadata": {},
   "source": [
    "# XGBoost"
   ]
  },
  {
   "cell_type": "code",
   "execution_count": 1,
   "id": "6716e8c1",
   "metadata": {},
   "outputs": [
    {
     "data": {
      "text/html": [
       "<div>\n",
       "<style scoped>\n",
       "    .dataframe tbody tr th:only-of-type {\n",
       "        vertical-align: middle;\n",
       "    }\n",
       "\n",
       "    .dataframe tbody tr th {\n",
       "        vertical-align: top;\n",
       "    }\n",
       "\n",
       "    .dataframe thead th {\n",
       "        text-align: right;\n",
       "    }\n",
       "</style>\n",
       "<table border=\"1\" class=\"dataframe\">\n",
       "  <thead>\n",
       "    <tr style=\"text-align: right;\">\n",
       "      <th></th>\n",
       "      <th>Unnamed: 0</th>\n",
       "      <th>A팀_득점</th>\n",
       "      <th>A팀_범실</th>\n",
       "      <th>A팀_공격종합성공률</th>\n",
       "      <th>A팀_오픈_성공률</th>\n",
       "      <th>A팀_속공_성공률</th>\n",
       "      <th>A팀_퀵오픈_성공률</th>\n",
       "      <th>A팀_서브_성공률</th>\n",
       "      <th>A팀_블로킹_성공률</th>\n",
       "      <th>A팀_디그_성공률</th>\n",
       "      <th>...</th>\n",
       "      <th>B팀_오픈_성공률</th>\n",
       "      <th>B팀_속공_성공률</th>\n",
       "      <th>B팀_퀵오픈_성공률</th>\n",
       "      <th>B팀_서브_성공률</th>\n",
       "      <th>B팀_블로킹_성공률</th>\n",
       "      <th>B팀_디그_성공률</th>\n",
       "      <th>B팀_디그_점유율</th>\n",
       "      <th>B팀_리시브_성공률</th>\n",
       "      <th>B팀_리시브_점유율</th>\n",
       "      <th>B팀MVP</th>\n",
       "    </tr>\n",
       "  </thead>\n",
       "  <tbody>\n",
       "    <tr>\n",
       "      <th>0</th>\n",
       "      <td>0</td>\n",
       "      <td>69.0</td>\n",
       "      <td>25.0</td>\n",
       "      <td>17.985000</td>\n",
       "      <td>9.437500</td>\n",
       "      <td>2.083750</td>\n",
       "      <td>26.931250</td>\n",
       "      <td>0.175000</td>\n",
       "      <td>11.702128</td>\n",
       "      <td>85.714286</td>\n",
       "      <td>...</td>\n",
       "      <td>6.898182</td>\n",
       "      <td>5.627273</td>\n",
       "      <td>15.150909</td>\n",
       "      <td>0.127273</td>\n",
       "      <td>20.000000</td>\n",
       "      <td>86.111111</td>\n",
       "      <td>9.029091</td>\n",
       "      <td>50.588235</td>\n",
       "      <td>9.090909</td>\n",
       "      <td>1</td>\n",
       "    </tr>\n",
       "    <tr>\n",
       "      <th>1</th>\n",
       "      <td>1</td>\n",
       "      <td>78.0</td>\n",
       "      <td>13.0</td>\n",
       "      <td>32.868889</td>\n",
       "      <td>35.226667</td>\n",
       "      <td>2.222222</td>\n",
       "      <td>12.036667</td>\n",
       "      <td>0.122222</td>\n",
       "      <td>9.090909</td>\n",
       "      <td>81.250000</td>\n",
       "      <td>...</td>\n",
       "      <td>14.957778</td>\n",
       "      <td>13.226667</td>\n",
       "      <td>13.457778</td>\n",
       "      <td>0.111111</td>\n",
       "      <td>19.047619</td>\n",
       "      <td>88.636364</td>\n",
       "      <td>11.112222</td>\n",
       "      <td>45.192308</td>\n",
       "      <td>11.111111</td>\n",
       "      <td>1</td>\n",
       "    </tr>\n",
       "    <tr>\n",
       "      <th>2</th>\n",
       "      <td>2</td>\n",
       "      <td>88.0</td>\n",
       "      <td>25.0</td>\n",
       "      <td>27.587273</td>\n",
       "      <td>22.803636</td>\n",
       "      <td>15.426364</td>\n",
       "      <td>10.505455</td>\n",
       "      <td>0.163636</td>\n",
       "      <td>9.722222</td>\n",
       "      <td>83.928571</td>\n",
       "      <td>...</td>\n",
       "      <td>22.885000</td>\n",
       "      <td>14.047000</td>\n",
       "      <td>9.684000</td>\n",
       "      <td>0.140000</td>\n",
       "      <td>11.842105</td>\n",
       "      <td>80.357143</td>\n",
       "      <td>10.001000</td>\n",
       "      <td>38.775510</td>\n",
       "      <td>9.998000</td>\n",
       "      <td>0</td>\n",
       "    </tr>\n",
       "    <tr>\n",
       "      <th>3</th>\n",
       "      <td>3</td>\n",
       "      <td>80.0</td>\n",
       "      <td>19.0</td>\n",
       "      <td>32.482222</td>\n",
       "      <td>32.128889</td>\n",
       "      <td>22.222222</td>\n",
       "      <td>16.168889</td>\n",
       "      <td>0.155556</td>\n",
       "      <td>10.447761</td>\n",
       "      <td>84.126984</td>\n",
       "      <td>...</td>\n",
       "      <td>18.535556</td>\n",
       "      <td>16.032222</td>\n",
       "      <td>11.111111</td>\n",
       "      <td>0.066667</td>\n",
       "      <td>14.141414</td>\n",
       "      <td>87.272727</td>\n",
       "      <td>11.111111</td>\n",
       "      <td>43.010753</td>\n",
       "      <td>11.112222</td>\n",
       "      <td>1</td>\n",
       "    </tr>\n",
       "    <tr>\n",
       "      <th>4</th>\n",
       "      <td>4</td>\n",
       "      <td>68.0</td>\n",
       "      <td>21.0</td>\n",
       "      <td>23.441250</td>\n",
       "      <td>19.438750</td>\n",
       "      <td>12.500000</td>\n",
       "      <td>19.633750</td>\n",
       "      <td>0.075000</td>\n",
       "      <td>11.363636</td>\n",
       "      <td>88.118812</td>\n",
       "      <td>...</td>\n",
       "      <td>14.401000</td>\n",
       "      <td>5.000000</td>\n",
       "      <td>8.718000</td>\n",
       "      <td>0.173000</td>\n",
       "      <td>17.741935</td>\n",
       "      <td>88.073394</td>\n",
       "      <td>9.643000</td>\n",
       "      <td>40.000000</td>\n",
       "      <td>9.238000</td>\n",
       "      <td>0</td>\n",
       "    </tr>\n",
       "    <tr>\n",
       "      <th>...</th>\n",
       "      <td>...</td>\n",
       "      <td>...</td>\n",
       "      <td>...</td>\n",
       "      <td>...</td>\n",
       "      <td>...</td>\n",
       "      <td>...</td>\n",
       "      <td>...</td>\n",
       "      <td>...</td>\n",
       "      <td>...</td>\n",
       "      <td>...</td>\n",
       "      <td>...</td>\n",
       "      <td>...</td>\n",
       "      <td>...</td>\n",
       "      <td>...</td>\n",
       "      <td>...</td>\n",
       "      <td>...</td>\n",
       "      <td>...</td>\n",
       "      <td>...</td>\n",
       "      <td>...</td>\n",
       "      <td>...</td>\n",
       "      <td>...</td>\n",
       "    </tr>\n",
       "    <tr>\n",
       "      <th>469</th>\n",
       "      <td>469</td>\n",
       "      <td>46.0</td>\n",
       "      <td>10.0</td>\n",
       "      <td>34.716000</td>\n",
       "      <td>22.714000</td>\n",
       "      <td>5.000000</td>\n",
       "      <td>32.452000</td>\n",
       "      <td>0.000000</td>\n",
       "      <td>9.375000</td>\n",
       "      <td>87.500000</td>\n",
       "      <td>...</td>\n",
       "      <td>31.937500</td>\n",
       "      <td>20.833750</td>\n",
       "      <td>30.833750</td>\n",
       "      <td>0.082500</td>\n",
       "      <td>7.692308</td>\n",
       "      <td>68.965517</td>\n",
       "      <td>12.286250</td>\n",
       "      <td>31.250000</td>\n",
       "      <td>12.500000</td>\n",
       "      <td>1</td>\n",
       "    </tr>\n",
       "    <tr>\n",
       "      <th>470</th>\n",
       "      <td>470</td>\n",
       "      <td>71.0</td>\n",
       "      <td>24.0</td>\n",
       "      <td>22.245000</td>\n",
       "      <td>20.486250</td>\n",
       "      <td>6.945000</td>\n",
       "      <td>13.091250</td>\n",
       "      <td>0.150000</td>\n",
       "      <td>19.178082</td>\n",
       "      <td>82.075472</td>\n",
       "      <td>...</td>\n",
       "      <td>30.034545</td>\n",
       "      <td>9.090909</td>\n",
       "      <td>11.620000</td>\n",
       "      <td>0.036364</td>\n",
       "      <td>16.216216</td>\n",
       "      <td>81.052632</td>\n",
       "      <td>8.811818</td>\n",
       "      <td>34.065934</td>\n",
       "      <td>8.708182</td>\n",
       "      <td>1</td>\n",
       "    </tr>\n",
       "    <tr>\n",
       "      <th>471</th>\n",
       "      <td>471</td>\n",
       "      <td>58.0</td>\n",
       "      <td>15.0</td>\n",
       "      <td>23.447500</td>\n",
       "      <td>12.531250</td>\n",
       "      <td>6.250000</td>\n",
       "      <td>20.441250</td>\n",
       "      <td>0.165000</td>\n",
       "      <td>13.333333</td>\n",
       "      <td>87.500000</td>\n",
       "      <td>...</td>\n",
       "      <td>20.237143</td>\n",
       "      <td>10.714286</td>\n",
       "      <td>20.271429</td>\n",
       "      <td>0.142857</td>\n",
       "      <td>6.382979</td>\n",
       "      <td>79.687500</td>\n",
       "      <td>12.698571</td>\n",
       "      <td>24.590164</td>\n",
       "      <td>13.407143</td>\n",
       "      <td>1</td>\n",
       "    </tr>\n",
       "    <tr>\n",
       "      <th>472</th>\n",
       "      <td>472</td>\n",
       "      <td>29.0</td>\n",
       "      <td>8.0</td>\n",
       "      <td>21.275714</td>\n",
       "      <td>29.907143</td>\n",
       "      <td>0.000000</td>\n",
       "      <td>8.571429</td>\n",
       "      <td>0.047143</td>\n",
       "      <td>9.302326</td>\n",
       "      <td>81.159420</td>\n",
       "      <td>...</td>\n",
       "      <td>33.334286</td>\n",
       "      <td>20.000000</td>\n",
       "      <td>26.957143</td>\n",
       "      <td>0.188571</td>\n",
       "      <td>16.129032</td>\n",
       "      <td>91.803279</td>\n",
       "      <td>11.938571</td>\n",
       "      <td>64.444444</td>\n",
       "      <td>12.605714</td>\n",
       "      <td>0</td>\n",
       "    </tr>\n",
       "    <tr>\n",
       "      <th>473</th>\n",
       "      <td>473</td>\n",
       "      <td>65.0</td>\n",
       "      <td>7.0</td>\n",
       "      <td>45.481250</td>\n",
       "      <td>31.101250</td>\n",
       "      <td>16.250000</td>\n",
       "      <td>20.936250</td>\n",
       "      <td>0.208750</td>\n",
       "      <td>17.241379</td>\n",
       "      <td>81.538462</td>\n",
       "      <td>...</td>\n",
       "      <td>15.870000</td>\n",
       "      <td>14.583750</td>\n",
       "      <td>16.666250</td>\n",
       "      <td>0.082500</td>\n",
       "      <td>19.047619</td>\n",
       "      <td>74.509804</td>\n",
       "      <td>10.625000</td>\n",
       "      <td>37.288136</td>\n",
       "      <td>10.387500</td>\n",
       "      <td>1</td>\n",
       "    </tr>\n",
       "  </tbody>\n",
       "</table>\n",
       "<p>474 rows × 28 columns</p>\n",
       "</div>"
      ],
      "text/plain": [
       "     Unnamed: 0  A팀_득점  A팀_범실  A팀_공격종합성공률  A팀_오픈_성공률  A팀_속공_성공률  A팀_퀵오픈_성공률  \\\n",
       "0             0   69.0   25.0   17.985000   9.437500   2.083750   26.931250   \n",
       "1             1   78.0   13.0   32.868889  35.226667   2.222222   12.036667   \n",
       "2             2   88.0   25.0   27.587273  22.803636  15.426364   10.505455   \n",
       "3             3   80.0   19.0   32.482222  32.128889  22.222222   16.168889   \n",
       "4             4   68.0   21.0   23.441250  19.438750  12.500000   19.633750   \n",
       "..          ...    ...    ...         ...        ...        ...         ...   \n",
       "469         469   46.0   10.0   34.716000  22.714000   5.000000   32.452000   \n",
       "470         470   71.0   24.0   22.245000  20.486250   6.945000   13.091250   \n",
       "471         471   58.0   15.0   23.447500  12.531250   6.250000   20.441250   \n",
       "472         472   29.0    8.0   21.275714  29.907143   0.000000    8.571429   \n",
       "473         473   65.0    7.0   45.481250  31.101250  16.250000   20.936250   \n",
       "\n",
       "     A팀_서브_성공률  A팀_블로킹_성공률  A팀_디그_성공률  ...  B팀_오픈_성공률  B팀_속공_성공률  B팀_퀵오픈_성공률  \\\n",
       "0     0.175000   11.702128  85.714286  ...   6.898182   5.627273   15.150909   \n",
       "1     0.122222    9.090909  81.250000  ...  14.957778  13.226667   13.457778   \n",
       "2     0.163636    9.722222  83.928571  ...  22.885000  14.047000    9.684000   \n",
       "3     0.155556   10.447761  84.126984  ...  18.535556  16.032222   11.111111   \n",
       "4     0.075000   11.363636  88.118812  ...  14.401000   5.000000    8.718000   \n",
       "..         ...         ...        ...  ...        ...        ...         ...   \n",
       "469   0.000000    9.375000  87.500000  ...  31.937500  20.833750   30.833750   \n",
       "470   0.150000   19.178082  82.075472  ...  30.034545   9.090909   11.620000   \n",
       "471   0.165000   13.333333  87.500000  ...  20.237143  10.714286   20.271429   \n",
       "472   0.047143    9.302326  81.159420  ...  33.334286  20.000000   26.957143   \n",
       "473   0.208750   17.241379  81.538462  ...  15.870000  14.583750   16.666250   \n",
       "\n",
       "     B팀_서브_성공률  B팀_블로킹_성공률  B팀_디그_성공률  B팀_디그_점유율  B팀_리시브_성공률  B팀_리시브_점유율  \\\n",
       "0     0.127273   20.000000  86.111111   9.029091   50.588235    9.090909   \n",
       "1     0.111111   19.047619  88.636364  11.112222   45.192308   11.111111   \n",
       "2     0.140000   11.842105  80.357143  10.001000   38.775510    9.998000   \n",
       "3     0.066667   14.141414  87.272727  11.111111   43.010753   11.112222   \n",
       "4     0.173000   17.741935  88.073394   9.643000   40.000000    9.238000   \n",
       "..         ...         ...        ...        ...         ...         ...   \n",
       "469   0.082500    7.692308  68.965517  12.286250   31.250000   12.500000   \n",
       "470   0.036364   16.216216  81.052632   8.811818   34.065934    8.708182   \n",
       "471   0.142857    6.382979  79.687500  12.698571   24.590164   13.407143   \n",
       "472   0.188571   16.129032  91.803279  11.938571   64.444444   12.605714   \n",
       "473   0.082500   19.047619  74.509804  10.625000   37.288136   10.387500   \n",
       "\n",
       "     B팀MVP  \n",
       "0        1  \n",
       "1        1  \n",
       "2        0  \n",
       "3        1  \n",
       "4        0  \n",
       "..     ...  \n",
       "469      1  \n",
       "470      1  \n",
       "471      1  \n",
       "472      0  \n",
       "473      1  \n",
       "\n",
       "[474 rows x 28 columns]"
      ]
     },
     "execution_count": 1,
     "metadata": {},
     "output_type": "execute_result"
    }
   ],
   "source": [
    "import pandas as pd\n",
    "\n",
    "data = pd.read_csv('../PJT/volleyball_fof.csv')\n",
    "data"
   ]
  },
  {
   "cell_type": "code",
   "execution_count": 2,
   "id": "52a66038",
   "metadata": {},
   "outputs": [],
   "source": [
    "data = data.drop(columns='Unnamed: 0')"
   ]
  },
  {
   "cell_type": "code",
   "execution_count": 3,
   "id": "436de560",
   "metadata": {},
   "outputs": [
    {
     "data": {
      "text/plain": [
       "Index(['A팀_득점', 'A팀_범실', 'A팀_공격종합성공률', 'A팀_오픈_성공률', 'A팀_속공_성공률', 'A팀_퀵오픈_성공률',\n",
       "       'A팀_서브_성공률', 'A팀_블로킹_성공률', 'A팀_디그_성공률', 'A팀_디그_점유율', 'A팀_리시브_성공률',\n",
       "       'A팀_리시브_점유율', 'A팀MVP', 'target', 'B팀_득점', 'B팀_범실', 'B팀_공격종합성공률',\n",
       "       'B팀_오픈_성공률', 'B팀_속공_성공률', 'B팀_퀵오픈_성공률', 'B팀_서브_성공률', 'B팀_블로킹_성공률',\n",
       "       'B팀_디그_성공률', 'B팀_디그_점유율', 'B팀_리시브_성공률', 'B팀_리시브_점유율', 'B팀MVP'],\n",
       "      dtype='object')"
      ]
     },
     "execution_count": 3,
     "metadata": {},
     "output_type": "execute_result"
    }
   ],
   "source": [
    "data.columns"
   ]
  },
  {
   "cell_type": "code",
   "execution_count": 4,
   "id": "f9e25e3d",
   "metadata": {},
   "outputs": [
    {
     "name": "stderr",
     "output_type": "stream",
     "text": [
      "/var/folders/yv/phjbvfsj1n72_qksqt8sd7n80000gn/T/ipykernel_33163/331839477.py:1: FutureWarning: In a future version of pandas all arguments of DataFrame.drop except for the argument 'labels' will be keyword-only.\n",
      "  df = data.drop(['A팀_공격종합성공률', 'B팀_공격종합성공률'], 1)\n"
     ]
    }
   ],
   "source": [
    "df = data.drop(['A팀_공격종합성공률', 'B팀_공격종합성공률'], 1)"
   ]
  },
  {
   "cell_type": "code",
   "execution_count": 5,
   "id": "adbcb8bf",
   "metadata": {},
   "outputs": [],
   "source": [
    "X = df.drop('target', axis = 1)\n",
    "y = df['target']"
   ]
  },
  {
   "cell_type": "markdown",
   "id": "a0f066d5",
   "metadata": {},
   "source": [
    "## 1. 공격 종합만"
   ]
  },
  {
   "cell_type": "code",
   "execution_count": 6,
   "id": "1536f169",
   "metadata": {},
   "outputs": [],
   "source": [
    "from sklearn.model_selection import train_test_split\n",
    "X_train, X_test, y_train, y_test = train_test_split(X, y, shuffle = False, random_state=0)"
   ]
  },
  {
   "cell_type": "code",
   "execution_count": 7,
   "id": "e2300054",
   "metadata": {},
   "outputs": [],
   "source": [
    "from sklearn.neighbors import KNeighborsClassifier\n",
    "from sklearn.metrics import accuracy_score\n",
    "from sklearn.pipeline import make_pipeline\n",
    "from sklearn.preprocessing import StandardScaler, MinMaxScaler\n",
    "from sklearn.preprocessing import PolynomialFeatures"
   ]
  },
  {
   "cell_type": "code",
   "execution_count": 16,
   "id": "c02765d4",
   "metadata": {},
   "outputs": [
    {
     "name": "stderr",
     "output_type": "stream",
     "text": [
      "/Users/seo/miniforge3/envs/tf/lib/python3.8/site-packages/xgboost/compat.py:36: FutureWarning: pandas.Int64Index is deprecated and will be removed from pandas in a future version. Use pandas.Index with the appropriate dtype instead.\n",
      "  from pandas import MultiIndex, Int64Index\n"
     ]
    }
   ],
   "source": [
    "from xgboost import XGBClassifier, XGBRegressor"
   ]
  },
  {
   "cell_type": "code",
   "execution_count": 17,
   "id": "4174f705",
   "metadata": {},
   "outputs": [
    {
     "name": "stderr",
     "output_type": "stream",
     "text": [
      "/Users/seo/miniforge3/envs/tf/lib/python3.8/site-packages/xgboost/data.py:262: FutureWarning: pandas.Int64Index is deprecated and will be removed from pandas in a future version. Use pandas.Index with the appropriate dtype instead.\n",
      "  elif isinstance(data.columns, (pd.Int64Index, pd.RangeIndex)):\n",
      "/Users/seo/miniforge3/envs/tf/lib/python3.8/site-packages/xgboost/data.py:262: FutureWarning: pandas.Int64Index is deprecated and will be removed from pandas in a future version. Use pandas.Index with the appropriate dtype instead.\n",
      "  elif isinstance(data.columns, (pd.Int64Index, pd.RangeIndex)):\n"
     ]
    },
    {
     "data": {
      "text/plain": [
       "(0.9999983353874161, 0.6539501795053416)"
      ]
     },
     "execution_count": 17,
     "metadata": {},
     "output_type": "execute_result"
    }
   ],
   "source": [
    "# 기본만\n",
    "xgb = XGBRegressor(random_state=0)\n",
    "xgb.fit(X_train, y_train)\n",
    "\n",
    "xgb.score(X_train, y_train), xgb.score(X_test, y_test)"
   ]
  },
  {
   "cell_type": "code",
   "execution_count": 38,
   "id": "a55381d4",
   "metadata": {},
   "outputs": [
    {
     "name": "stderr",
     "output_type": "stream",
     "text": [
      "/Users/seo/miniforge3/envs/tf/lib/python3.8/site-packages/xgboost/data.py:262: FutureWarning: pandas.Int64Index is deprecated and will be removed from pandas in a future version. Use pandas.Index with the appropriate dtype instead.\n",
      "  elif isinstance(data.columns, (pd.Int64Index, pd.RangeIndex)):\n",
      "/Users/seo/miniforge3/envs/tf/lib/python3.8/site-packages/xgboost/data.py:262: FutureWarning: pandas.Int64Index is deprecated and will be removed from pandas in a future version. Use pandas.Index with the appropriate dtype instead.\n",
      "  elif isinstance(data.columns, (pd.Int64Index, pd.RangeIndex)):\n"
     ]
    },
    {
     "data": {
      "text/plain": [
       "(0.9992477662336567, 0.7635237586530943)"
      ]
     },
     "execution_count": 38,
     "metadata": {},
     "output_type": "execute_result"
    }
   ],
   "source": [
    "# learning_rate=0.1, n_estimators=100, subsample=0.7\n",
    "xgb = XGBRegressor(random_state=0, learning_rate=0.1, n_estimators=100,\n",
    "                  subsample=0.7)\n",
    "xgb.fit(X_train, y_train)\n",
    "\n",
    "xgb.score(X_train, y_train), xgb.score(X_test, y_test)"
   ]
  },
  {
   "cell_type": "code",
   "execution_count": 19,
   "id": "28797966",
   "metadata": {},
   "outputs": [
    {
     "name": "stderr",
     "output_type": "stream",
     "text": [
      "/Users/seo/miniforge3/envs/tf/lib/python3.8/site-packages/xgboost/data.py:262: FutureWarning: pandas.Int64Index is deprecated and will be removed from pandas in a future version. Use pandas.Index with the appropriate dtype instead.\n",
      "  elif isinstance(data.columns, (pd.Int64Index, pd.RangeIndex)):\n"
     ]
    },
    {
     "name": "stdout",
     "output_type": "stream",
     "text": [
      "[10:11:03] WARNING: /Users/runner/miniforge3/conda-bld/xgboost-split_1645117899018/work/src/learner.cc:576: \n",
      "Parameters: { \"max_features\" } might not be used.\n",
      "\n",
      "  This could be a false alarm, with some parameters getting used by language bindings but\n",
      "  then being mistakenly passed down to XGBoost core, or some parameter actually being used\n",
      "  but getting flagged wrongly here. Please open an issue if you find any such cases.\n",
      "\n",
      "\n"
     ]
    },
    {
     "name": "stderr",
     "output_type": "stream",
     "text": [
      "/Users/seo/miniforge3/envs/tf/lib/python3.8/site-packages/xgboost/data.py:262: FutureWarning: pandas.Int64Index is deprecated and will be removed from pandas in a future version. Use pandas.Index with the appropriate dtype instead.\n",
      "  elif isinstance(data.columns, (pd.Int64Index, pd.RangeIndex)):\n"
     ]
    },
    {
     "data": {
      "text/plain": [
       "(0.9994880459057388, 0.7732832788260753)"
      ]
     },
     "execution_count": 19,
     "metadata": {},
     "output_type": "execute_result"
    }
   ],
   "source": [
    "# learning_rate=0.01, n_estimators=1000, subsample=0.7, max_features=0.7\n",
    "xgb = XGBRegressor(random_state=0, learning_rate=0.01, n_estimators=1000,\n",
    "                  subsample=0.7, max_features=0.7)\n",
    "xgb.fit(X_train, y_train)\n",
    "\n",
    "xgb.score(X_train, y_train), xgb.score(X_test, y_test)"
   ]
  },
  {
   "cell_type": "code",
   "execution_count": 24,
   "id": "2eb5bceb",
   "metadata": {},
   "outputs": [
    {
     "name": "stderr",
     "output_type": "stream",
     "text": [
      "/Users/seo/miniforge3/envs/tf/lib/python3.8/site-packages/xgboost/data.py:262: FutureWarning: pandas.Int64Index is deprecated and will be removed from pandas in a future version. Use pandas.Index with the appropriate dtype instead.\n",
      "  elif isinstance(data.columns, (pd.Int64Index, pd.RangeIndex)):\n"
     ]
    },
    {
     "name": "stdout",
     "output_type": "stream",
     "text": [
      "[10:24:02] WARNING: /Users/runner/miniforge3/conda-bld/xgboost-split_1645117899018/work/src/learner.cc:576: \n",
      "Parameters: { \"max_features\" } might not be used.\n",
      "\n",
      "  This could be a false alarm, with some parameters getting used by language bindings but\n",
      "  then being mistakenly passed down to XGBoost core, or some parameter actually being used\n",
      "  but getting flagged wrongly here. Please open an issue if you find any such cases.\n",
      "\n",
      "\n"
     ]
    },
    {
     "name": "stderr",
     "output_type": "stream",
     "text": [
      "/Users/seo/miniforge3/envs/tf/lib/python3.8/site-packages/xgboost/data.py:262: FutureWarning: pandas.Int64Index is deprecated and will be removed from pandas in a future version. Use pandas.Index with the appropriate dtype instead.\n",
      "  elif isinstance(data.columns, (pd.Int64Index, pd.RangeIndex)):\n"
     ]
    },
    {
     "data": {
      "text/plain": [
       "(0.9995123200028287, 0.7769956143111948)"
      ]
     },
     "execution_count": 24,
     "metadata": {},
     "output_type": "execute_result"
    }
   ],
   "source": [
    "# learning_rate=0.001, n_estimators=10000, subsample=0.7, max_features=0.7\n",
    "xgb = XGBRegressor(random_state=0, learning_rate=0.001, n_estimators=10000,\n",
    "                  subsample=0.7, max_features=0.7)\n",
    "xgb.fit(X_train, y_train)\n",
    "\n",
    "xgb.score(X_train, y_train), xgb.score(X_test, y_test)"
   ]
  },
  {
   "cell_type": "code",
   "execution_count": 26,
   "id": "cc528686",
   "metadata": {},
   "outputs": [
    {
     "name": "stderr",
     "output_type": "stream",
     "text": [
      "/Users/seo/miniforge3/envs/tf/lib/python3.8/site-packages/xgboost/data.py:262: FutureWarning: pandas.Int64Index is deprecated and will be removed from pandas in a future version. Use pandas.Index with the appropriate dtype instead.\n",
      "  elif isinstance(data.columns, (pd.Int64Index, pd.RangeIndex)):\n"
     ]
    },
    {
     "name": "stdout",
     "output_type": "stream",
     "text": [
      "[10:24:34] WARNING: /Users/runner/miniforge3/conda-bld/xgboost-split_1645117899018/work/src/learner.cc:576: \n",
      "Parameters: { \"max_features\" } might not be used.\n",
      "\n",
      "  This could be a false alarm, with some parameters getting used by language bindings but\n",
      "  then being mistakenly passed down to XGBoost core, or some parameter actually being used\n",
      "  but getting flagged wrongly here. Please open an issue if you find any such cases.\n",
      "\n",
      "\n"
     ]
    },
    {
     "name": "stderr",
     "output_type": "stream",
     "text": [
      "/Users/seo/miniforge3/envs/tf/lib/python3.8/site-packages/xgboost/data.py:262: FutureWarning: pandas.Int64Index is deprecated and will be removed from pandas in a future version. Use pandas.Index with the appropriate dtype instead.\n",
      "  elif isinstance(data.columns, (pd.Int64Index, pd.RangeIndex)):\n"
     ]
    },
    {
     "data": {
      "text/plain": [
       "(0.9990131563608079, 0.7851436719440945)"
      ]
     },
     "execution_count": 26,
     "metadata": {},
     "output_type": "execute_result"
    }
   ],
   "source": [
    "# learning_rate=0.001, n_estimators=10000, subsample=0.6\n",
    "xgb = XGBRegressor(random_state=0, learning_rate=0.001, n_estimators=10000,\n",
    "                  subsample=0.6)\n",
    "xgb.fit(X_train, y_train)\n",
    "\n",
    "xgb.score(X_train, y_train), xgb.score(X_test, y_test)"
   ]
  },
  {
   "cell_type": "code",
   "execution_count": 39,
   "id": "f6dd3925",
   "metadata": {},
   "outputs": [
    {
     "name": "stderr",
     "output_type": "stream",
     "text": [
      "/Users/seo/miniforge3/envs/tf/lib/python3.8/site-packages/xgboost/data.py:262: FutureWarning: pandas.Int64Index is deprecated and will be removed from pandas in a future version. Use pandas.Index with the appropriate dtype instead.\n",
      "  elif isinstance(data.columns, (pd.Int64Index, pd.RangeIndex)):\n",
      "/Users/seo/miniforge3/envs/tf/lib/python3.8/site-packages/xgboost/data.py:262: FutureWarning: pandas.Int64Index is deprecated and will be removed from pandas in a future version. Use pandas.Index with the appropriate dtype instead.\n",
      "  elif isinstance(data.columns, (pd.Int64Index, pd.RangeIndex)):\n"
     ]
    },
    {
     "data": {
      "text/plain": [
       "(0.9979476591700835, 0.789186821794562)"
      ]
     },
     "execution_count": 39,
     "metadata": {},
     "output_type": "execute_result"
    }
   ],
   "source": [
    "# learning_rate=0.001, n_estimators=10000, subsample=0.5\n",
    "xgb = XGBRegressor(random_state=0, learning_rate=0.001, n_estimators=10000,\n",
    "                  subsample=0.5)\n",
    "xgb.fit(X_train, y_train)\n",
    "\n",
    "xgb.score(X_train, y_train), xgb.score(X_test, y_test)"
   ]
  },
  {
   "cell_type": "code",
   "execution_count": 40,
   "id": "6075ec44",
   "metadata": {},
   "outputs": [
    {
     "name": "stderr",
     "output_type": "stream",
     "text": [
      "/Users/seo/miniforge3/envs/tf/lib/python3.8/site-packages/xgboost/data.py:262: FutureWarning: pandas.Int64Index is deprecated and will be removed from pandas in a future version. Use pandas.Index with the appropriate dtype instead.\n",
      "  elif isinstance(data.columns, (pd.Int64Index, pd.RangeIndex)):\n",
      "/Users/seo/miniforge3/envs/tf/lib/python3.8/site-packages/xgboost/data.py:262: FutureWarning: pandas.Int64Index is deprecated and will be removed from pandas in a future version. Use pandas.Index with the appropriate dtype instead.\n",
      "  elif isinstance(data.columns, (pd.Int64Index, pd.RangeIndex)):\n"
     ]
    },
    {
     "data": {
      "text/plain": [
       "(0.995432926984799, 0.7928048573569249)"
      ]
     },
     "execution_count": 40,
     "metadata": {},
     "output_type": "execute_result"
    }
   ],
   "source": [
    "# learning_rate=0.001, n_estimators=10000, subsample=0.4\n",
    "xgb = XGBRegressor(random_state=0, learning_rate=0.001, n_estimators=10000,\n",
    "                  subsample=0.4)\n",
    "xgb.fit(X_train, y_train)\n",
    "\n",
    "xgb.score(X_train, y_train), xgb.score(X_test, y_test)"
   ]
  },
  {
   "cell_type": "markdown",
   "id": "c87e32c9",
   "metadata": {},
   "source": [
    "## 2. (오픈, 후위, 속공, 퀵오픈, 서브)"
   ]
  },
  {
   "cell_type": "code",
   "execution_count": 28,
   "id": "cbdf88e7",
   "metadata": {},
   "outputs": [
    {
     "name": "stderr",
     "output_type": "stream",
     "text": [
      "/Users/seo/miniforge3/envs/tf/lib/python3.8/site-packages/xgboost/data.py:262: FutureWarning: pandas.Int64Index is deprecated and will be removed from pandas in a future version. Use pandas.Index with the appropriate dtype instead.\n",
      "  elif isinstance(data.columns, (pd.Int64Index, pd.RangeIndex)):\n",
      "/Users/seo/miniforge3/envs/tf/lib/python3.8/site-packages/xgboost/data.py:262: FutureWarning: pandas.Int64Index is deprecated and will be removed from pandas in a future version. Use pandas.Index with the appropriate dtype instead.\n",
      "  elif isinstance(data.columns, (pd.Int64Index, pd.RangeIndex)):\n"
     ]
    },
    {
     "data": {
      "text/plain": [
       "(0.9999963839456809, 0.6930429590243454)"
      ]
     },
     "execution_count": 28,
     "metadata": {},
     "output_type": "execute_result"
    }
   ],
   "source": [
    "# 기본\n",
    "xgb = XGBRegressor(random_state=0)\n",
    "xgb.fit(X_train2, y_train2)\n",
    "\n",
    "xgb.score(X_train2, y_train2), xgb.score(X_test2, y_test2)"
   ]
  },
  {
   "cell_type": "code",
   "execution_count": 29,
   "id": "dc8e2f96",
   "metadata": {},
   "outputs": [
    {
     "name": "stdout",
     "output_type": "stream",
     "text": [
      "[10:27:41] WARNING: /Users/runner/miniforge3/conda-bld/xgboost-split_1645117899018/work/src/learner.cc:576: \n",
      "Parameters: { \"max_features\" } might not be used.\n",
      "\n",
      "  This could be a false alarm, with some parameters getting used by language bindings but\n",
      "  then being mistakenly passed down to XGBoost core, or some parameter actually being used\n",
      "  but getting flagged wrongly here. Please open an issue if you find any such cases.\n",
      "\n",
      "\n"
     ]
    },
    {
     "name": "stderr",
     "output_type": "stream",
     "text": [
      "/Users/seo/miniforge3/envs/tf/lib/python3.8/site-packages/xgboost/data.py:262: FutureWarning: pandas.Int64Index is deprecated and will be removed from pandas in a future version. Use pandas.Index with the appropriate dtype instead.\n",
      "  elif isinstance(data.columns, (pd.Int64Index, pd.RangeIndex)):\n",
      "/Users/seo/miniforge3/envs/tf/lib/python3.8/site-packages/xgboost/data.py:262: FutureWarning: pandas.Int64Index is deprecated and will be removed from pandas in a future version. Use pandas.Index with the appropriate dtype instead.\n",
      "  elif isinstance(data.columns, (pd.Int64Index, pd.RangeIndex)):\n"
     ]
    },
    {
     "data": {
      "text/plain": [
       "(0.9987122442858098, 0.7793887538211131)"
      ]
     },
     "execution_count": 29,
     "metadata": {},
     "output_type": "execute_result"
    }
   ],
   "source": [
    "# learning_rate=0.1, n_estimators=100, subsample=0.7, max_features=0.7\n",
    "xgb = XGBRegressor(random_state=0, learning_rate=0.1, n_estimators=100,\n",
    "                  subsample=0.7, max_features=0.7)\n",
    "xgb.fit(X_train2, y_train2)\n",
    "\n",
    "xgb.score(X_train2, y_train2), xgb.score(X_test2, y_test2)"
   ]
  },
  {
   "cell_type": "code",
   "execution_count": 31,
   "id": "72efe63a",
   "metadata": {},
   "outputs": [
    {
     "name": "stderr",
     "output_type": "stream",
     "text": [
      "/Users/seo/miniforge3/envs/tf/lib/python3.8/site-packages/xgboost/data.py:262: FutureWarning: pandas.Int64Index is deprecated and will be removed from pandas in a future version. Use pandas.Index with the appropriate dtype instead.\n",
      "  elif isinstance(data.columns, (pd.Int64Index, pd.RangeIndex)):\n"
     ]
    },
    {
     "name": "stdout",
     "output_type": "stream",
     "text": [
      "[10:28:35] WARNING: /Users/runner/miniforge3/conda-bld/xgboost-split_1645117899018/work/src/learner.cc:576: \n",
      "Parameters: { \"max_features\" } might not be used.\n",
      "\n",
      "  This could be a false alarm, with some parameters getting used by language bindings but\n",
      "  then being mistakenly passed down to XGBoost core, or some parameter actually being used\n",
      "  but getting flagged wrongly here. Please open an issue if you find any such cases.\n",
      "\n",
      "\n"
     ]
    },
    {
     "name": "stderr",
     "output_type": "stream",
     "text": [
      "/Users/seo/miniforge3/envs/tf/lib/python3.8/site-packages/xgboost/data.py:262: FutureWarning: pandas.Int64Index is deprecated and will be removed from pandas in a future version. Use pandas.Index with the appropriate dtype instead.\n",
      "  elif isinstance(data.columns, (pd.Int64Index, pd.RangeIndex)):\n"
     ]
    },
    {
     "data": {
      "text/plain": [
       "(0.9989822610698136, 0.7817845015884097)"
      ]
     },
     "execution_count": 31,
     "metadata": {},
     "output_type": "execute_result"
    }
   ],
   "source": [
    "# learning_rate=0.01, n_estimators=1000, subsample=0.7, max_features=0.7\n",
    "xgb = XGBRegressor(random_state=0, learning_rate=0.01, n_estimators=1000,\n",
    "                  subsample=0.7, max_features=0.7)\n",
    "xgb.fit(X_train2, y_train2)\n",
    "\n",
    "xgb.score(X_train2, y_train2), xgb.score(X_test2, y_test2)"
   ]
  },
  {
   "cell_type": "code",
   "execution_count": 32,
   "id": "3dde80e8",
   "metadata": {},
   "outputs": [
    {
     "name": "stderr",
     "output_type": "stream",
     "text": [
      "/Users/seo/miniforge3/envs/tf/lib/python3.8/site-packages/xgboost/data.py:262: FutureWarning: pandas.Int64Index is deprecated and will be removed from pandas in a future version. Use pandas.Index with the appropriate dtype instead.\n",
      "  elif isinstance(data.columns, (pd.Int64Index, pd.RangeIndex)):\n"
     ]
    },
    {
     "name": "stdout",
     "output_type": "stream",
     "text": [
      "[10:28:44] WARNING: /Users/runner/miniforge3/conda-bld/xgboost-split_1645117899018/work/src/learner.cc:576: \n",
      "Parameters: { \"max_features\" } might not be used.\n",
      "\n",
      "  This could be a false alarm, with some parameters getting used by language bindings but\n",
      "  then being mistakenly passed down to XGBoost core, or some parameter actually being used\n",
      "  but getting flagged wrongly here. Please open an issue if you find any such cases.\n",
      "\n",
      "\n"
     ]
    },
    {
     "name": "stderr",
     "output_type": "stream",
     "text": [
      "/Users/seo/miniforge3/envs/tf/lib/python3.8/site-packages/xgboost/data.py:262: FutureWarning: pandas.Int64Index is deprecated and will be removed from pandas in a future version. Use pandas.Index with the appropriate dtype instead.\n",
      "  elif isinstance(data.columns, (pd.Int64Index, pd.RangeIndex)):\n"
     ]
    },
    {
     "data": {
      "text/plain": [
       "(0.9989682855461111, 0.7826595116505484)"
      ]
     },
     "execution_count": 32,
     "metadata": {},
     "output_type": "execute_result"
    }
   ],
   "source": [
    "# learning_rate=0.001, n_estimators=10000, subsample=0.7, max_features=0.7\n",
    "xgb = XGBRegressor(random_state=0, learning_rate=0.001, n_estimators=10000,\n",
    "                  subsample=0.7, max_features=0.7)\n",
    "xgb.fit(X_train2, y_train2)\n",
    "\n",
    "xgb.score(X_train2, y_train2), xgb.score(X_test2, y_test2)"
   ]
  },
  {
   "cell_type": "code",
   "execution_count": 33,
   "id": "bc3b0cc9",
   "metadata": {},
   "outputs": [
    {
     "name": "stderr",
     "output_type": "stream",
     "text": [
      "/Users/seo/miniforge3/envs/tf/lib/python3.8/site-packages/xgboost/data.py:262: FutureWarning: pandas.Int64Index is deprecated and will be removed from pandas in a future version. Use pandas.Index with the appropriate dtype instead.\n",
      "  elif isinstance(data.columns, (pd.Int64Index, pd.RangeIndex)):\n",
      "/Users/seo/miniforge3/envs/tf/lib/python3.8/site-packages/xgboost/data.py:262: FutureWarning: pandas.Int64Index is deprecated and will be removed from pandas in a future version. Use pandas.Index with the appropriate dtype instead.\n",
      "  elif isinstance(data.columns, (pd.Int64Index, pd.RangeIndex)):\n"
     ]
    },
    {
     "data": {
      "text/plain": [
       "(0.9982382853107866, 0.7909586969260123)"
      ]
     },
     "execution_count": 33,
     "metadata": {},
     "output_type": "execute_result"
    }
   ],
   "source": [
    "# learning_rate=0.001, n_estimators=10000, subsample=0.6\n",
    "xgb = XGBRegressor(random_state=0, learning_rate=0.001, n_estimators=10000,\n",
    "                  subsample=0.6)\n",
    "xgb.fit(X_train2, y_train2)\n",
    "\n",
    "xgb.score(X_train2, y_train2), xgb.score(X_test2, y_test2)"
   ]
  },
  {
   "cell_type": "code",
   "execution_count": 34,
   "id": "95b8fa07",
   "metadata": {},
   "outputs": [
    {
     "name": "stderr",
     "output_type": "stream",
     "text": [
      "/Users/seo/miniforge3/envs/tf/lib/python3.8/site-packages/xgboost/data.py:262: FutureWarning: pandas.Int64Index is deprecated and will be removed from pandas in a future version. Use pandas.Index with the appropriate dtype instead.\n",
      "  elif isinstance(data.columns, (pd.Int64Index, pd.RangeIndex)):\n",
      "/Users/seo/miniforge3/envs/tf/lib/python3.8/site-packages/xgboost/data.py:262: FutureWarning: pandas.Int64Index is deprecated and will be removed from pandas in a future version. Use pandas.Index with the appropriate dtype instead.\n",
      "  elif isinstance(data.columns, (pd.Int64Index, pd.RangeIndex)):\n"
     ]
    },
    {
     "data": {
      "text/plain": [
       "(0.9967791384678947, 0.7948822278324111)"
      ]
     },
     "execution_count": 34,
     "metadata": {},
     "output_type": "execute_result"
    }
   ],
   "source": [
    "# learning_rate=0.001, n_estimators=10000, subsample=0.5\n",
    "xgb = XGBRegressor(random_state=0, learning_rate=0.001, n_estimators=10000,\n",
    "                  subsample=0.5)\n",
    "xgb.fit(X_train2, y_train2)\n",
    "\n",
    "xgb.score(X_train2, y_train2), xgb.score(X_test2, y_test2)"
   ]
  },
  {
   "cell_type": "code",
   "execution_count": 35,
   "id": "9804d98c",
   "metadata": {},
   "outputs": [
    {
     "name": "stderr",
     "output_type": "stream",
     "text": [
      "/Users/seo/miniforge3/envs/tf/lib/python3.8/site-packages/xgboost/data.py:262: FutureWarning: pandas.Int64Index is deprecated and will be removed from pandas in a future version. Use pandas.Index with the appropriate dtype instead.\n",
      "  elif isinstance(data.columns, (pd.Int64Index, pd.RangeIndex)):\n",
      "/Users/seo/miniforge3/envs/tf/lib/python3.8/site-packages/xgboost/data.py:262: FutureWarning: pandas.Int64Index is deprecated and will be removed from pandas in a future version. Use pandas.Index with the appropriate dtype instead.\n",
      "  elif isinstance(data.columns, (pd.Int64Index, pd.RangeIndex)):\n"
     ]
    },
    {
     "data": {
      "text/plain": [
       "(0.9933959896190576, 0.7969148651519757)"
      ]
     },
     "execution_count": 35,
     "metadata": {},
     "output_type": "execute_result"
    }
   ],
   "source": [
    "# learning_rate=0.001, n_estimators=10000, subsample=0.4\n",
    "xgb = XGBRegressor(random_state=0, learning_rate=0.001, n_estimators=10000,\n",
    "                  subsample=0.4)\n",
    "xgb.fit(X_train2, y_train2)\n",
    "\n",
    "xgb.score(X_train2, y_train2), xgb.score(X_test2, y_test2)"
   ]
  },
  {
   "cell_type": "code",
   "execution_count": 36,
   "id": "2d55d200",
   "metadata": {},
   "outputs": [
    {
     "name": "stderr",
     "output_type": "stream",
     "text": [
      "/Users/seo/miniforge3/envs/tf/lib/python3.8/site-packages/xgboost/data.py:262: FutureWarning: pandas.Int64Index is deprecated and will be removed from pandas in a future version. Use pandas.Index with the appropriate dtype instead.\n",
      "  elif isinstance(data.columns, (pd.Int64Index, pd.RangeIndex)):\n",
      "/Users/seo/miniforge3/envs/tf/lib/python3.8/site-packages/xgboost/data.py:262: FutureWarning: pandas.Int64Index is deprecated and will be removed from pandas in a future version. Use pandas.Index with the appropriate dtype instead.\n",
      "  elif isinstance(data.columns, (pd.Int64Index, pd.RangeIndex)):\n"
     ]
    },
    {
     "data": {
      "text/plain": [
       "(0.9851280601281532, 0.7887388522872922)"
      ]
     },
     "execution_count": 36,
     "metadata": {},
     "output_type": "execute_result"
    }
   ],
   "source": [
    "# learning_rate=0.001, n_estimators=10000, subsample=0.3\n",
    "xgb = XGBRegressor(random_state=0, learning_rate=0.001, n_estimators=10000,\n",
    "                  subsample=0.3)\n",
    "xgb.fit(X_train2, y_train2)\n",
    "\n",
    "xgb.score(X_train2, y_train2), xgb.score(X_test2, y_test2)"
   ]
  }
 ],
 "metadata": {
  "kernelspec": {
   "display_name": "Python 3 (ipykernel)",
   "language": "python",
   "name": "python3"
  },
  "language_info": {
   "codemirror_mode": {
    "name": "ipython",
    "version": 3
   },
   "file_extension": ".py",
   "mimetype": "text/x-python",
   "name": "python",
   "nbconvert_exporter": "python",
   "pygments_lexer": "ipython3",
   "version": "3.8.13"
  }
 },
 "nbformat": 4,
 "nbformat_minor": 5
}
